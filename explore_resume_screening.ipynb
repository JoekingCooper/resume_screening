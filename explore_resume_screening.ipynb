{
 "cells": [
  {
   "cell_type": "code",
   "execution_count": 1,
   "metadata": {},
   "outputs": [],
   "source": [
    "import screen"
   ]
  },
  {
   "cell_type": "code",
   "execution_count": 2,
   "metadata": {},
   "outputs": [
    {
     "name": "stdout",
     "output_type": "stream",
     "text": [
      "This is LIST OF FILES\n",
      "['CV-Gloria Cheng2018.doc', '180517_Vasanthi Kasinathan.docx', 'LT CV 201608.docx', 'Compliance/L Catterton SG - Compliance (PE)/Unity Group_Radhika Singh_Due Diligence Associate.docx', 'Compliance/L Catterton SG - Compliance (PE)/Lion Global_Ivy Choo_Investment Compliance Assistant Manager.docx', 'Compliance/L Catterton SG - Compliance (PE)/Phillip Capital_Loh Pei Shang_Compliance Manager.docx', 'Compliance/L Catterton SG - Compliance (PE)/Reliance AM_TasneemNasrulla_Compliance Officer.docx', 'Compliance/L Catterton SG - Compliance (PE)/Zhongtai International_Jonathan Man_Compliance Manager.docx', 'Resume --Rohini Prakash.pdf', 'Compliance/L Catterton SG - Compliance (PE)/UOB AM_Felyna Lee_Product AVP.pdf', 'Compliance/L Catterton SG - Compliance (PE)/Vickers Financial_Ryan Tang_Compliance Officer.pdf', 'Compliance/L Catterton SG - Compliance (PE)/PWC_Penny Lim_Risk AM.pdf', 'Compliance/L Catterton SG - Compliance (PE)/Vertex Venture_Ocvia Freriana_Compliance Lead.pdf', 'Compliance/L Catterton SG - Compliance (PE)/Xander_Erwina Lau_Finance Compliance Executive.pdf', 'Compliance/L Catterton SG - Compliance (PE)/PWC_Wong Zhong Ming_Senior Audit Associate.pdf', 'Compliance/L Catterton SG - Compliance (PE)/Luminance Fund_Saleem Lalani_Research Associate.pdf', 'Compliance/L Catterton SG - Compliance (PE)/PWC_Olivia Peter_Regulatory Manager.pdf', 'Compliance/L Catterton SG - Compliance (PE)/Xander_Rohit Khandelwal_VP.pdf']\n",
      "####### PARSING ########\n",
      "This is DOC CV-Gloria Cheng2018.doc\n",
      "The command `antiword CV-Gloria Cheng2018.doc` failed because the executable\n",
      "`antiword` is not installed on your system. Please make\n",
      "sure the appropriate dependencies are installed before using\n",
      "textract:\n",
      "\n",
      "    http://textract.readthedocs.org/en/latest/installation.html\n",
      "\n",
      "This is DOCX 180517_Vasanthi Kasinathan.docx\n",
      "This is DOCX LT CV 201608.docx\n",
      "This is DOCX Compliance/L Catterton SG - Compliance (PE)/Unity Group_Radhika Singh_Due Diligence Associate.docx\n",
      "This is DOCX Compliance/L Catterton SG - Compliance (PE)/Lion Global_Ivy Choo_Investment Compliance Assistant Manager.docx\n",
      "This is DOCX Compliance/L Catterton SG - Compliance (PE)/Phillip Capital_Loh Pei Shang_Compliance Manager.docx\n",
      "This is DOCX Compliance/L Catterton SG - Compliance (PE)/Reliance AM_TasneemNasrulla_Compliance Officer.docx\n",
      "This is DOCX Compliance/L Catterton SG - Compliance (PE)/Zhongtai International_Jonathan Man_Compliance Manager.docx\n",
      "This is PDF 8\n",
      "This is PDF 9\n",
      "This is PDF 10\n",
      "This is PDF 11\n",
      "This is PDF 12\n",
      "This is PDF 13\n"
     ]
    },
    {
     "name": "stderr",
     "output_type": "stream",
     "text": [
      "PdfReadWarning: Superfluous whitespace found in object header b'1' b'0' [pdf.py:1666]\n",
      "PdfReadWarning: Superfluous whitespace found in object header b'2' b'0' [pdf.py:1666]\n",
      "PdfReadWarning: Superfluous whitespace found in object header b'3' b'0' [pdf.py:1666]\n",
      "PdfReadWarning: Superfluous whitespace found in object header b'39' b'0' [pdf.py:1666]\n",
      "PdfReadWarning: Superfluous whitespace found in object header b'42' b'0' [pdf.py:1666]\n",
      "PdfReadWarning: Superfluous whitespace found in object header b'37' b'0' [pdf.py:1666]\n",
      "PdfReadWarning: Superfluous whitespace found in object header b'40' b'0' [pdf.py:1666]\n",
      "PdfReadWarning: Superfluous whitespace found in object header b'43' b'0' [pdf.py:1666]\n"
     ]
    },
    {
     "name": "stdout",
     "output_type": "stream",
     "text": [
      "This is PDF 14\n",
      "This is PDF 15\n",
      "This is PDF 16\n",
      "This is PDF 17\n",
      "Done Parsing.\n"
     ]
    },
    {
     "name": "stderr",
     "output_type": "stream",
     "text": [
      "PdfReadWarning: Xref table not zero-indexed. ID numbers for objects will be corrected. [pdf.py:1736]\n"
     ]
    },
    {
     "name": "stdout",
     "output_type": "stream",
     "text": [
      "['CV-Gloria Cheng2018.doc', '180517_Vasanthi Kasinathan.docx', 'LT CV 201608.docx', 'Compliance/L Catterton SG - Compliance (PE)/Unity Group_Radhika Singh_Due Diligence Associate.docx', 'Compliance/L Catterton SG - Compliance (PE)/Lion Global_Ivy Choo_Investment Compliance Assistant Manager.docx', 'Compliance/L Catterton SG - Compliance (PE)/Phillip Capital_Loh Pei Shang_Compliance Manager.docx', 'Compliance/L Catterton SG - Compliance (PE)/Reliance AM_TasneemNasrulla_Compliance Officer.docx', 'Compliance/L Catterton SG - Compliance (PE)/Zhongtai International_Jonathan Man_Compliance Manager.docx', 'Resume --Rohini Prakash.pdf', 'Compliance/L Catterton SG - Compliance (PE)/UOB AM_Felyna Lee_Product AVP.pdf', 'Compliance/L Catterton SG - Compliance (PE)/Vickers Financial_Ryan Tang_Compliance Officer.pdf', 'Compliance/L Catterton SG - Compliance (PE)/PWC_Penny Lim_Risk AM.pdf', 'Compliance/L Catterton SG - Compliance (PE)/Vertex Venture_Ocvia Freriana_Compliance Lead.pdf', 'Compliance/L Catterton SG - Compliance (PE)/Xander_Erwina Lau_Finance Compliance Executive.pdf', 'Compliance/L Catterton SG - Compliance (PE)/PWC_Wong Zhong Ming_Senior Audit Associate.pdf', 'Compliance/L Catterton SG - Compliance (PE)/Luminance Fund_Saleem Lalani_Research Associate.pdf', 'Compliance/L Catterton SG - Compliance (PE)/PWC_Olivia Peter_Regulatory Manager.pdf', 'Compliance/L Catterton SG - Compliance (PE)/Xander_Rohit Khandelwal_VP.pdf']\n",
      "[1.0780965557020432, 1.191477653970896, 1.1712041400039777, 1.225694659450942, 1.3075968415211148, 1.214706526496936, 1.0859177309225025, 1.0709232429252669, 1.0, 1.0, 1.0, 1.2388139325186456, 1.2414380903850488, 1.1631962936961795, 1.0]\n",
      "Rank2 :\t Compliance/L Catterton SG - Compliance (PE)/PWC_Wong Zhong Ming_Senior Audit Associate.pdf\n",
      "Rank3 :\t Compliance/L Catterton SG - Compliance (PE)/UOB AM_Felyna Lee_Product AVP.pdf\n",
      "Rank4 :\t Compliance/L Catterton SG - Compliance (PE)/Vickers Financial_Ryan Tang_Compliance Officer.pdf\n",
      "Rank5 :\t Resume --Rohini Prakash.pdf\n",
      "Rank6 :\t Compliance/L Catterton SG - Compliance (PE)/Zhongtai International_Jonathan Man_Compliance Manager.docx\n",
      "Rank7 :\t CV-Gloria Cheng2018.doc\n",
      "Rank8 :\t Compliance/L Catterton SG - Compliance (PE)/Reliance AM_TasneemNasrulla_Compliance Officer.docx\n",
      "Rank9 :\t Compliance/L Catterton SG - Compliance (PE)/Xander_Erwina Lau_Finance Compliance Executive.pdf\n",
      "Rank10 :\t LT CV 201608.docx\n",
      "Rank11 :\t 180517_Vasanthi Kasinathan.docx\n",
      "Rank12 :\t Compliance/L Catterton SG - Compliance (PE)/Phillip Capital_Loh Pei Shang_Compliance Manager.docx\n",
      "Rank13 :\t Compliance/L Catterton SG - Compliance (PE)/Unity Group_Radhika Singh_Due Diligence Associate.docx\n",
      "Rank14 :\t Compliance/L Catterton SG - Compliance (PE)/PWC_Penny Lim_Risk AM.pdf\n",
      "Rank15 :\t Compliance/L Catterton SG - Compliance (PE)/Vertex Venture_Ocvia Freriana_Compliance Lead.pdf\n",
      "Rank16 :\t Compliance/L Catterton SG - Compliance (PE)/Lion Global_Ivy Choo_Investment Compliance Assistant Manager.docx\n"
     ]
    }
   ],
   "source": [
    "rankings = flask_return = screen.res(\"oaktree_mac.txt\")"
   ]
  },
  {
   "cell_type": "code",
   "execution_count": 6,
   "metadata": {},
   "outputs": [
    {
     "data": {
      "text/plain": [
       "'Compliance/L Catterton SG - Compliance (PE)/PWC_Wong Zhong Ming_Senior Audit Associate.pdf'"
      ]
     },
     "execution_count": 6,
     "metadata": {},
     "output_type": "execute_result"
    }
   ],
   "source": [
    "rankings[0].filename"
   ]
  },
  {
   "cell_type": "code",
   "execution_count": null,
   "metadata": {},
   "outputs": [],
   "source": []
  }
 ],
 "metadata": {
  "kernelspec": {
   "display_name": "Python 3",
   "language": "python",
   "name": "python3"
  },
  "language_info": {
   "codemirror_mode": {
    "name": "ipython",
    "version": 3
   },
   "file_extension": ".py",
   "mimetype": "text/x-python",
   "name": "python",
   "nbconvert_exporter": "python",
   "pygments_lexer": "ipython3",
   "version": "3.7.1"
  }
 },
 "nbformat": 4,
 "nbformat_minor": 4
}
